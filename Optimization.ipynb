{
 "cells": [
  {
   "cell_type": "markdown",
   "id": "ea1ce08b",
   "metadata": {},
   "source": [
    "# Import all modules"
   ]
  },
  {
   "cell_type": "code",
   "execution_count": 1,
   "id": "28e43971",
   "metadata": {},
   "outputs": [],
   "source": [
    "import numpy as np\n",
    "import scipy\n",
    "from scipy.stats import norm, truncnorm,mannwhitneyu\n",
    "import matplotlib.pyplot as plt\n",
    "import math"
   ]
  },
  {
   "cell_type": "markdown",
   "id": "88f25fc7",
   "metadata": {},
   "source": [
    "# Task 1"
   ]
  },
  {
   "cell_type": "code",
   "execution_count": 2,
   "id": "4a7feb10",
   "metadata": {},
   "outputs": [],
   "source": [
    "def tau1(x):\n",
    "    return 6000/(math.sqrt(2)*x[0]*x[1])\n",
    "    \n",
    "def tau2(x):\n",
    "    return (6000*(14 + 0.5*x[1])*math.sqrt(0.25*(x[1] ** 2 + (x[0] + x[2]) ** 2))) / (2*(0.707*x[0]*x[1] * ((x[1] ** 2)/12 + 0.25*((x[0] + x[2]) ** 2))))\n",
    "\n",
    "def shear_stress(x):\n",
    "    return math.sqrt((tau1(x) ** 2 + tau2(x) ** 2) + (x[1] * tau1(x) * tau2(x)) / (math.sqrt(0.25*(x[1] ** 2 + (x[0] + x[2]) ** 2))))\n",
    "\n",
    "def normal_stress(x):\n",
    "    return 504000/(x[2]**2 * x[3])\n",
    "\n",
    "def buckling_load(x):\n",
    "    return 64746.022 * (1 - 0.0282346 * x[2]) * x[2] * x[3] ** 3"
   ]
  },
  {
   "cell_type": "code",
   "execution_count": 3,
   "id": "b5afaa10",
   "metadata": {},
   "outputs": [],
   "source": [
    "def f(x):\n",
    "    f.counter += 1\n",
    "    return 1.10471*x[0]**2*x[1] + 0.04811*x[2]*x[3]*(14 + x[1])\n",
    "f.counter = 0\n",
    "\n",
    "def g1(x):\n",
    "    g1.counter += 1\n",
    "    return 13600 - shear_stress(x)\n",
    "g1.counter = 0\n",
    "\n",
    "def g2(x):\n",
    "    g2.counter += 1\n",
    "    return 30000 - normal_stress(x)\n",
    "g2.counter = 0\n",
    "\n",
    "def g3(x):\n",
    "    g3.counter += 1\n",
    "    return x[3] - x[0]\n",
    "g3.counter = 0\n",
    "\n",
    "def g4(x):\n",
    "    g4.counter += 1\n",
    "    return buckling_load(x) - 6000\n",
    "g4.counter = 0"
   ]
  },
  {
   "cell_type": "markdown",
   "id": "0e415b84",
   "metadata": {},
   "source": [
    "### Testing functions"
   ]
  },
  {
   "cell_type": "code",
   "execution_count": 4,
   "id": "0970db4f",
   "metadata": {},
   "outputs": [
    {
     "name": "stdout",
     "output_type": "stream",
     "text": [
      "Objective function output:  32.6024179859\n",
      "First constraint function output:  5308.848564674312\n",
      "Second constraint function output:  26736.764990548952\n",
      "Third constraint function output:  6.82\n",
      "Fourth constraint function output:  122317448.61430933\n"
     ]
    }
   ],
   "source": [
    "x = np.array([1.05,3.15,4.43,7.87])\n",
    "print(\"Objective function output: \", f(x))\n",
    "print(\"First constraint function output: \", g1(x))\n",
    "print(\"Second constraint function output: \", g2(x))\n",
    "print(\"Third constraint function output: \", g3(x))\n",
    "print(\"Fourth constraint function output: \", g4(x))"
   ]
  },
  {
   "cell_type": "markdown",
   "id": "cb8ef8ce",
   "metadata": {},
   "source": [
    "# Task 2\n"
   ]
  },
  {
   "cell_type": "code",
   "execution_count": 5,
   "id": "7059949d",
   "metadata": {},
   "outputs": [],
   "source": [
    "def random_search(func, max_iter, lower_bound, upper_bound, fargs):\n",
    "    points_to_evaluate = np.random.uniform(lower_bound, upper_bound,size = (max_iter, len(lower_bound)))\n",
    "    \n",
    "    rejected = 0          \n",
    "    results = []\n",
    "    \n",
    "    for point in points_to_evaluate:\n",
    "        for i in range(len(fargs)):\n",
    "            if fargs[i](point) >= 0:\n",
    "                rejected = rejected + 1\n",
    "            else:\n",
    "                rejected = rejected\n",
    "        \n",
    "        if rejected == 4:\n",
    "            results.append(func(point))\n",
    "        rejected = 0\n",
    "    results = np.array(results)\n",
    "    best_ind = np.argmin(results)   \n",
    "    return points_to_evaluate[best_ind] , results[best_ind]\n",
    "\n",
    "    "
   ]
  },
  {
   "cell_type": "code",
   "execution_count": 6,
   "id": "f4c5f9a6",
   "metadata": {},
   "outputs": [
    {
     "name": "stdout",
     "output_type": "stream",
     "text": [
      "The best x values are: [4.45319224 3.54362713 0.77653014 5.05819908] and the minimum cost of maufacturing is: 7.33\n"
     ]
    }
   ],
   "source": [
    "np.random.seed(0)\n",
    "number_of_samples = 1000\n",
    "lower_bound = np.array([0.125,0.125,0.1,0.1])\n",
    "upper_bound = np.array([5,5,10,10])\n",
    "fargs = [g1,g2,g3,g4]\n",
    "\n",
    "res = random_search(f, number_of_samples,lower_bound, upper_bound, fargs = fargs)\n",
    "print(\"The best x values are: {} and the minimum cost of maufacturing is: {:.2f}\".format(res[0], res[1]))\n",
    "\n"
   ]
  },
  {
   "cell_type": "markdown",
   "id": "999fadfa",
   "metadata": {},
   "source": [
    "# Task 3"
   ]
  },
  {
   "cell_type": "code",
   "execution_count": 7,
   "id": "3f118fa0",
   "metadata": {},
   "outputs": [],
   "source": [
    "def t(k):\n",
    "    return 100/k;\n"
   ]
  },
  {
   "cell_type": "code",
   "execution_count": 8,
   "id": "b24ab05b",
   "metadata": {},
   "outputs": [],
   "source": [
    "def s(x,g1,g2,g3,g4,r=50,beta=1):\n",
    "    return r * np.min([0,g1(x),g2(x),g3(x),g4(x)]) ** beta\n",
    "\n",
    "\n",
    "def phi_static(x,f,g1,g2,g3,g4,s,r=50,beta=1):\n",
    "    return f(x) - s(x,g1,g2,g3,g4,r,beta) "
   ]
  },
  {
   "cell_type": "code",
   "execution_count": 9,
   "id": "40d8577c",
   "metadata": {},
   "outputs": [],
   "source": [
    "def simulated_annealing(f, sigma, lower_bound, upper_bound, k_max):\n",
    "    x_best = np.random.uniform(lower_bound,upper_bound,4)\n",
    "    y_best = phi_static(x_best,f,g1,g2,g3,g4,s)\n",
    "    x_c = x_best\n",
    "    y_c = y_best\n",
    "    random = np.random.uniform(0,1)\n",
    "    \n",
    "    \n",
    "    for k in range(1,k_max+1):\n",
    "        points = truncnorm.rvs((lower_bound-x_c)/sigma, (upper_bound-x_c)/sigma, loc = x_c, scale = sigma,size = 4)\n",
    "        result = phi_static(points,f,g1,g2,g3,g4,s)\n",
    "        delta_y = result - y_c\n",
    "        if delta_y <= 0 or random < min(math.exp(-delta_y/t(k)),1):\n",
    "            x_c = points\n",
    "            y_c = result\n",
    "        \n",
    "        if result < y_best:\n",
    "            x_best = points\n",
    "            y_best = result\n",
    "    \n",
    "    return x_best,y_best"
   ]
  },
  {
   "cell_type": "code",
   "execution_count": 10,
   "id": "70d92ed7",
   "metadata": {},
   "outputs": [
    {
     "name": "stdout",
     "output_type": "stream",
     "text": [
      "The best x values are: [0.61951873 2.61227478 6.61205396 0.62534261] and the minimum cost of maufacturing is: 4.41\n"
     ]
    }
   ],
   "source": [
    "np.random.seed(0)\n",
    "sigma = []\n",
    "for i in range(4):\n",
    "    sigma.append((upper_bound[i] - lower_bound[i]) * 0.1)\n",
    "sigma = np.array(sigma) \n",
    "\n",
    "res = simulated_annealing(f,sigma,lower_bound,upper_bound, number_of_samples)\n",
    "print(\"The best x values are: {} and the minimum cost of maufacturing is: {:.2f}\".format(res[0], res[1]))"
   ]
  },
  {
   "cell_type": "markdown",
   "id": "c2be2947",
   "metadata": {},
   "source": [
    "# Task 4"
   ]
  },
  {
   "cell_type": "code",
   "execution_count": 11,
   "id": "3dcf4094",
   "metadata": {},
   "outputs": [
    {
     "name": "stdout",
     "output_type": "stream",
     "text": [
      "f  1480 g1  2001 g2  2001 g3  2001 g4  2001\n",
      "f  1467 g1  2001 g2  2001 g3  2001 g4  2001\n",
      "f  1465 g1  2001 g2  2001 g3  2001 g4  2001\n",
      "f  1457 g1  2001 g2  2001 g3  2001 g4  2001\n",
      "f  1489 g1  2001 g2  2001 g3  2001 g4  2001\n",
      "f  1492 g1  2001 g2  2001 g3  2001 g4  2001\n",
      "f  1479 g1  2001 g2  2001 g3  2001 g4  2001\n",
      "f  1490 g1  2001 g2  2001 g3  2001 g4  2001\n",
      "f  1488 g1  2001 g2  2001 g3  2001 g4  2001\n",
      "f  1499 g1  2001 g2  2001 g3  2001 g4  2001\n",
      "f  1480 g1  2001 g2  2001 g3  2001 g4  2001\n",
      "f  1494 g1  2001 g2  2001 g3  2001 g4  2001\n",
      "f  1498 g1  2001 g2  2001 g3  2001 g4  2001\n",
      "f  1485 g1  2001 g2  2001 g3  2001 g4  2001\n",
      "f  1503 g1  2001 g2  2001 g3  2001 g4  2001\n",
      "f  1484 g1  2001 g2  2001 g3  2001 g4  2001\n",
      "f  1496 g1  2001 g2  2001 g3  2001 g4  2001\n",
      "f  1499 g1  2001 g2  2001 g3  2001 g4  2001\n",
      "f  1481 g1  2001 g2  2001 g3  2001 g4  2001\n",
      "f  1534 g1  2001 g2  2001 g3  2001 g4  2001\n",
      "f  1504 g1  2001 g2  2001 g3  2001 g4  2001\n"
     ]
    },
    {
     "data": {
      "image/png": "[encoded data removed]",
      "text/plain": [
       "<Figure size 640x480 with 1 Axes>"
      ]
     },
     "metadata": {},
     "output_type": "display_data"
    }
   ],
   "source": [
    "np.random.seed(0)\n",
    "\n",
    "rs_res = []\n",
    "sa_res = []\n",
    "for i in range(21):\n",
    "    f.counter = 0\n",
    "    g1.counter = 0\n",
    "    g2.counter = 0\n",
    "    g3.counter = 0\n",
    "    g4.counter = 0\n",
    "    res1 = random_search(f, number_of_samples,lower_bound, upper_bound, fargs = fargs)\n",
    "    rs_res.append(res1[1])\n",
    "    res2 = simulated_annealing(f,sigma,lower_bound,upper_bound, number_of_samples)\n",
    "    sa_res.append(res2[1])\n",
    "    print(\"f \",f.counter, \"g1 \",g1.counter,\"g2 \",g2.counter,\"g3 \",g3.counter,\"g4 \",g4.counter)\n",
    "plt.boxplot([rs_res,sa_res])\n",
    "plt.xticks([1,2], ['Random Search','Simulated Annealing'])\n",
    "plt.ylabel(\"Best Objective Value\")\n",
    "plt.show()"
   ]
  }
 ],
 "metadata": {
  "kernelspec": {
   "display_name": "Python 3 (ipykernel)",
   "language": "python",
   "name": "python3"
  },
  "language_info": {
   "codemirror_mode": {
    "name": "ipython",
    "version": 3
   },
   "file_extension": ".py",
   "mimetype": "text/x-python",
   "name": "python",
   "nbconvert_exporter": "python",
   "pygments_lexer": "ipython3",
   "version": "3.9.12"
  }
 },
 "nbformat": 4,
 "nbformat_minor": 5
}
